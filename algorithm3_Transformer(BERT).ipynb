{
 "cells": [
  {
   "cell_type": "markdown",
   "id": "b8c3dfec",
   "metadata": {},
   "source": [
    "### Data Reading"
   ]
  },
  {
   "cell_type": "markdown",
   "id": "b1527ca5",
   "metadata": {},
   "source": [
    "#### I implemented my transformer algorithm on Kaggle, adapting the data reading for non-local computation."
   ]
  },
  {
   "cell_type": "code",
   "execution_count": 1,
   "id": "aafdc195",
   "metadata": {
    "execution": {
     "iopub.execute_input": "2024-10-06T14:16:54.135842Z",
     "iopub.status.busy": "2024-10-06T14:16:54.134988Z",
     "iopub.status.idle": "2024-10-06T14:16:54.675704Z",
     "shell.execute_reply": "2024-10-06T14:16:54.674720Z",
     "shell.execute_reply.started": "2024-10-06T14:16:54.135770Z"
    }
   },
   "outputs": [
    {
     "name": "stdout",
     "output_type": "stream",
     "text": [
      "Number of data 1 points: 5728\n",
      "Number of data 2 points: 5937\n",
      "Number of data 3 points: 2225\n"
     ]
    }
   ],
   "source": [
    "import pandas as pd\n",
    "\n",
    "# Read the data sets\n",
    "data1 = pd.read_csv(\"/kaggle/input/dts305/dataset1.csv\", encoding=\"iso-8859-1\")\n",
    "data2 = pd.read_csv(\"/kaggle/input/dts305/dataset2.csv\", encoding=\"iso-8859-1\")\n",
    "data3 = pd.read_csv(\"/kaggle/input/dts305/dataset3.csv\", encoding=\"iso-8859-1\")\n",
    "\n",
    "# Number of printed data points\n",
    "print(\"Number of data 1 points:\", len(data1))\n",
    "print(\"Number of data 2 points:\", len(data2))\n",
    "print(\"Number of data 3 points:\", len(data3))\n"
   ]
  },
  {
   "cell_type": "code",
   "execution_count": 2,
   "id": "b8d66064",
   "metadata": {
    "execution": {
     "iopub.execute_input": "2024-10-06T14:16:54.678447Z",
     "iopub.status.busy": "2024-10-06T14:16:54.677937Z",
     "iopub.status.idle": "2024-10-06T14:16:54.690168Z",
     "shell.execute_reply": "2024-10-06T14:16:54.689156Z",
     "shell.execute_reply.started": "2024-10-06T14:16:54.678399Z"
    },
    "scrolled": true
   },
   "outputs": [
    {
     "data": {
      "text/html": [
       "<div>\n",
       "<style scoped>\n",
       "    .dataframe tbody tr th:only-of-type {\n",
       "        vertical-align: middle;\n",
       "    }\n",
       "\n",
       "    .dataframe tbody tr th {\n",
       "        vertical-align: top;\n",
       "    }\n",
       "\n",
       "    .dataframe thead th {\n",
       "        text-align: right;\n",
       "    }\n",
       "</style>\n",
       "<table border=\"1\" class=\"dataframe\">\n",
       "  <thead>\n",
       "    <tr style=\"text-align: right;\">\n",
       "      <th></th>\n",
       "      <th>text</th>\n",
       "      <th>spam</th>\n",
       "    </tr>\n",
       "  </thead>\n",
       "  <tbody>\n",
       "    <tr>\n",
       "      <th>0</th>\n",
       "      <td>Subject: naturally irresistible your corporate...</td>\n",
       "      <td>1</td>\n",
       "    </tr>\n",
       "    <tr>\n",
       "      <th>1</th>\n",
       "      <td>Subject: the stock trading gunslinger  fanny i...</td>\n",
       "      <td>1</td>\n",
       "    </tr>\n",
       "    <tr>\n",
       "      <th>2</th>\n",
       "      <td>Subject: unbelievable new homes made easy  im ...</td>\n",
       "      <td>1</td>\n",
       "    </tr>\n",
       "    <tr>\n",
       "      <th>3</th>\n",
       "      <td>Subject: 4 color printing special  request add...</td>\n",
       "      <td>1</td>\n",
       "    </tr>\n",
       "    <tr>\n",
       "      <th>4</th>\n",
       "      <td>Subject: do not have money , get software cds ...</td>\n",
       "      <td>1</td>\n",
       "    </tr>\n",
       "  </tbody>\n",
       "</table>\n",
       "</div>"
      ],
      "text/plain": [
       "                                                text  spam\n",
       "0  Subject: naturally irresistible your corporate...     1\n",
       "1  Subject: the stock trading gunslinger  fanny i...     1\n",
       "2  Subject: unbelievable new homes made easy  im ...     1\n",
       "3  Subject: 4 color printing special  request add...     1\n",
       "4  Subject: do not have money , get software cds ...     1"
      ]
     },
     "execution_count": 2,
     "metadata": {},
     "output_type": "execute_result"
    }
   ],
   "source": [
    "data1.head()"
   ]
  },
  {
   "cell_type": "code",
   "execution_count": 3,
   "id": "0c086e1f",
   "metadata": {
    "execution": {
     "iopub.execute_input": "2024-10-06T14:16:54.691915Z",
     "iopub.status.busy": "2024-10-06T14:16:54.691522Z",
     "iopub.status.idle": "2024-10-06T14:16:54.703241Z",
     "shell.execute_reply": "2024-10-06T14:16:54.702209Z",
     "shell.execute_reply.started": "2024-10-06T14:16:54.691871Z"
    },
    "scrolled": true
   },
   "outputs": [
    {
     "data": {
      "text/html": [
       "<div>\n",
       "<style scoped>\n",
       "    .dataframe tbody tr th:only-of-type {\n",
       "        vertical-align: middle;\n",
       "    }\n",
       "\n",
       "    .dataframe tbody tr th {\n",
       "        vertical-align: top;\n",
       "    }\n",
       "\n",
       "    .dataframe thead th {\n",
       "        text-align: right;\n",
       "    }\n",
       "</style>\n",
       "<table border=\"1\" class=\"dataframe\">\n",
       "  <thead>\n",
       "    <tr style=\"text-align: right;\">\n",
       "      <th></th>\n",
       "      <th>Comment</th>\n",
       "      <th>Emotion</th>\n",
       "    </tr>\n",
       "  </thead>\n",
       "  <tbody>\n",
       "    <tr>\n",
       "      <th>0</th>\n",
       "      <td>i seriously hate one subject to death but now ...</td>\n",
       "      <td>fear</td>\n",
       "    </tr>\n",
       "    <tr>\n",
       "      <th>1</th>\n",
       "      <td>im so full of life i feel appalled</td>\n",
       "      <td>anger</td>\n",
       "    </tr>\n",
       "    <tr>\n",
       "      <th>2</th>\n",
       "      <td>i sit here to write i start to dig out my feel...</td>\n",
       "      <td>fear</td>\n",
       "    </tr>\n",
       "    <tr>\n",
       "      <th>3</th>\n",
       "      <td>ive been really angry with r and i feel like a...</td>\n",
       "      <td>joy</td>\n",
       "    </tr>\n",
       "    <tr>\n",
       "      <th>4</th>\n",
       "      <td>i feel suspicious if there is no one outside l...</td>\n",
       "      <td>fear</td>\n",
       "    </tr>\n",
       "  </tbody>\n",
       "</table>\n",
       "</div>"
      ],
      "text/plain": [
       "                                             Comment Emotion\n",
       "0  i seriously hate one subject to death but now ...    fear\n",
       "1                 im so full of life i feel appalled   anger\n",
       "2  i sit here to write i start to dig out my feel...    fear\n",
       "3  ive been really angry with r and i feel like a...     joy\n",
       "4  i feel suspicious if there is no one outside l...    fear"
      ]
     },
     "execution_count": 3,
     "metadata": {},
     "output_type": "execute_result"
    }
   ],
   "source": [
    "data2.head()"
   ]
  },
  {
   "cell_type": "code",
   "execution_count": 4,
   "id": "f751d123",
   "metadata": {
    "execution": {
     "iopub.execute_input": "2024-10-06T14:16:54.705675Z",
     "iopub.status.busy": "2024-10-06T14:16:54.705395Z",
     "iopub.status.idle": "2024-10-06T14:16:54.717310Z",
     "shell.execute_reply": "2024-10-06T14:16:54.716375Z",
     "shell.execute_reply.started": "2024-10-06T14:16:54.705645Z"
    }
   },
   "outputs": [
    {
     "data": {
      "text/html": [
       "<div>\n",
       "<style scoped>\n",
       "    .dataframe tbody tr th:only-of-type {\n",
       "        vertical-align: middle;\n",
       "    }\n",
       "\n",
       "    .dataframe tbody tr th {\n",
       "        vertical-align: top;\n",
       "    }\n",
       "\n",
       "    .dataframe thead th {\n",
       "        text-align: right;\n",
       "    }\n",
       "</style>\n",
       "<table border=\"1\" class=\"dataframe\">\n",
       "  <thead>\n",
       "    <tr style=\"text-align: right;\">\n",
       "      <th></th>\n",
       "      <th>Text</th>\n",
       "      <th>Label</th>\n",
       "    </tr>\n",
       "  </thead>\n",
       "  <tbody>\n",
       "    <tr>\n",
       "      <th>0</th>\n",
       "      <td>Budget to set scene for election\\n \\n Gordon B...</td>\n",
       "      <td>0</td>\n",
       "    </tr>\n",
       "    <tr>\n",
       "      <th>1</th>\n",
       "      <td>Army chiefs in regiments decision\\n \\n Militar...</td>\n",
       "      <td>0</td>\n",
       "    </tr>\n",
       "    <tr>\n",
       "      <th>2</th>\n",
       "      <td>Howard denies split over ID cards\\n \\n Michael...</td>\n",
       "      <td>0</td>\n",
       "    </tr>\n",
       "    <tr>\n",
       "      <th>3</th>\n",
       "      <td>Observers to monitor UK election\\n \\n Minister...</td>\n",
       "      <td>0</td>\n",
       "    </tr>\n",
       "    <tr>\n",
       "      <th>4</th>\n",
       "      <td>Kilroy names election seat target\\n \\n Ex-chat...</td>\n",
       "      <td>0</td>\n",
       "    </tr>\n",
       "  </tbody>\n",
       "</table>\n",
       "</div>"
      ],
      "text/plain": [
       "                                                Text  Label\n",
       "0  Budget to set scene for election\\n \\n Gordon B...      0\n",
       "1  Army chiefs in regiments decision\\n \\n Militar...      0\n",
       "2  Howard denies split over ID cards\\n \\n Michael...      0\n",
       "3  Observers to monitor UK election\\n \\n Minister...      0\n",
       "4  Kilroy names election seat target\\n \\n Ex-chat...      0"
      ]
     },
     "execution_count": 4,
     "metadata": {},
     "output_type": "execute_result"
    }
   ],
   "source": [
    "data3.head()"
   ]
  },
  {
   "cell_type": "markdown",
   "id": "78d2476e",
   "metadata": {},
   "source": [
    "#### Data Cleaning"
   ]
  },
  {
   "cell_type": "code",
   "execution_count": 5,
   "id": "d208de6c",
   "metadata": {
    "execution": {
     "iopub.execute_input": "2024-10-06T14:16:54.718585Z",
     "iopub.status.busy": "2024-10-06T14:16:54.718310Z",
     "iopub.status.idle": "2024-10-06T14:16:54.732612Z",
     "shell.execute_reply": "2024-10-06T14:16:54.731680Z",
     "shell.execute_reply.started": "2024-10-06T14:16:54.718554Z"
    }
   },
   "outputs": [
    {
     "name": "stdout",
     "output_type": "stream",
     "text": [
      "<class 'pandas.core.frame.DataFrame'>\n",
      "RangeIndex: 5728 entries, 0 to 5727\n",
      "Data columns (total 2 columns):\n",
      " #   Column  Non-Null Count  Dtype \n",
      "---  ------  --------------  ----- \n",
      " 0   text    5728 non-null   object\n",
      " 1   spam    5728 non-null   int64 \n",
      "dtypes: int64(1), object(1)\n",
      "memory usage: 89.6+ KB\n"
     ]
    }
   ],
   "source": [
    "#Information on data1 features \n",
    "data1.info()"
   ]
  },
  {
   "cell_type": "code",
   "execution_count": 6,
   "id": "ece34b1d",
   "metadata": {
    "execution": {
     "iopub.execute_input": "2024-10-06T14:16:54.733904Z",
     "iopub.status.busy": "2024-10-06T14:16:54.733608Z",
     "iopub.status.idle": "2024-10-06T14:16:54.745661Z",
     "shell.execute_reply": "2024-10-06T14:16:54.744730Z",
     "shell.execute_reply.started": "2024-10-06T14:16:54.733872Z"
    }
   },
   "outputs": [
    {
     "name": "stdout",
     "output_type": "stream",
     "text": [
      "<class 'pandas.core.frame.DataFrame'>\n",
      "RangeIndex: 5937 entries, 0 to 5936\n",
      "Data columns (total 2 columns):\n",
      " #   Column   Non-Null Count  Dtype \n",
      "---  ------   --------------  ----- \n",
      " 0   Comment  5937 non-null   object\n",
      " 1   Emotion  5937 non-null   object\n",
      "dtypes: object(2)\n",
      "memory usage: 92.9+ KB\n"
     ]
    }
   ],
   "source": [
    "#Information on data2 features \n",
    "data2.info()"
   ]
  },
  {
   "cell_type": "code",
   "execution_count": 7,
   "id": "066df040",
   "metadata": {
    "execution": {
     "iopub.execute_input": "2024-10-06T14:16:54.747106Z",
     "iopub.status.busy": "2024-10-06T14:16:54.746779Z",
     "iopub.status.idle": "2024-10-06T14:16:54.758495Z",
     "shell.execute_reply": "2024-10-06T14:16:54.757514Z",
     "shell.execute_reply.started": "2024-10-06T14:16:54.747063Z"
    }
   },
   "outputs": [
    {
     "name": "stdout",
     "output_type": "stream",
     "text": [
      "<class 'pandas.core.frame.DataFrame'>\n",
      "RangeIndex: 2225 entries, 0 to 2224\n",
      "Data columns (total 2 columns):\n",
      " #   Column  Non-Null Count  Dtype \n",
      "---  ------  --------------  ----- \n",
      " 0   Text    2225 non-null   object\n",
      " 1   Label   2225 non-null   int64 \n",
      "dtypes: int64(1), object(1)\n",
      "memory usage: 34.9+ KB\n"
     ]
    }
   ],
   "source": [
    "#Information on data3 features \n",
    "data3.info()"
   ]
  },
  {
   "cell_type": "code",
   "execution_count": 8,
   "id": "06aabcc1",
   "metadata": {
    "execution": {
     "iopub.execute_input": "2024-10-06T14:16:54.760501Z",
     "iopub.status.busy": "2024-10-06T14:16:54.759866Z",
     "iopub.status.idle": "2024-10-06T14:16:54.769007Z",
     "shell.execute_reply": "2024-10-06T14:16:54.768222Z",
     "shell.execute_reply.started": "2024-10-06T14:16:54.760457Z"
    }
   },
   "outputs": [
    {
     "name": "stdout",
     "output_type": "stream",
     "text": [
      "The total number of data1-points after removing the rows with missing values are: 5728\n"
     ]
    }
   ],
   "source": [
    "#To remove the NA values\n",
    "data1 = data1.dropna()\n",
    "print(\"The total number of data1-points after removing the rows with missing values are:\", len(data1))"
   ]
  },
  {
   "cell_type": "code",
   "execution_count": 9,
   "id": "13ce25b7",
   "metadata": {
    "execution": {
     "iopub.execute_input": "2024-10-06T14:16:54.770398Z",
     "iopub.status.busy": "2024-10-06T14:16:54.770045Z",
     "iopub.status.idle": "2024-10-06T14:16:54.780266Z",
     "shell.execute_reply": "2024-10-06T14:16:54.779351Z",
     "shell.execute_reply.started": "2024-10-06T14:16:54.770355Z"
    }
   },
   "outputs": [
    {
     "name": "stdout",
     "output_type": "stream",
     "text": [
      "The total number of data2-points after removing the rows with missing values are: 5937\n"
     ]
    }
   ],
   "source": [
    "#To remove the NA values\n",
    "data2 = data2.dropna()\n",
    "print(\"The total number of data2-points after removing the rows with missing values are:\", len(data2))"
   ]
  },
  {
   "cell_type": "code",
   "execution_count": 10,
   "id": "34e9eaa3",
   "metadata": {
    "execution": {
     "iopub.execute_input": "2024-10-06T14:16:54.785023Z",
     "iopub.status.busy": "2024-10-06T14:16:54.784730Z",
     "iopub.status.idle": "2024-10-06T14:16:54.791039Z",
     "shell.execute_reply": "2024-10-06T14:16:54.790162Z",
     "shell.execute_reply.started": "2024-10-06T14:16:54.784993Z"
    }
   },
   "outputs": [
    {
     "name": "stdout",
     "output_type": "stream",
     "text": [
      "The total number of data3-points after removing the rows with missing values are: 2225\n"
     ]
    }
   ],
   "source": [
    "#To remove the NA values\n",
    "data3 = data3.dropna()\n",
    "print(\"The total number of data3-points after removing the rows with missing values are:\", len(data3))"
   ]
  },
  {
   "cell_type": "code",
   "execution_count": 11,
   "id": "dec325c0",
   "metadata": {
    "execution": {
     "iopub.execute_input": "2024-10-06T14:16:54.792448Z",
     "iopub.status.busy": "2024-10-06T14:16:54.792175Z",
     "iopub.status.idle": "2024-10-06T14:16:54.799886Z",
     "shell.execute_reply": "2024-10-06T14:16:54.799020Z",
     "shell.execute_reply.started": "2024-10-06T14:16:54.792406Z"
    }
   },
   "outputs": [
    {
     "name": "stdout",
     "output_type": "stream",
     "text": [
      "Total categories in the feature spam:\n",
      " spam\n",
      "0    4360\n",
      "1    1368\n",
      "Name: count, dtype: int64 \n",
      "\n"
     ]
    }
   ],
   "source": [
    "#explore the unique values in the categorical features to get a clear idea of the data1.\n",
    "print(\"Total categories in the feature spam:\\n\", data1[\"spam\"].value_counts(), \"\\n\")\n"
   ]
  },
  {
   "cell_type": "code",
   "execution_count": 12,
   "id": "85a976de",
   "metadata": {
    "execution": {
     "iopub.execute_input": "2024-10-06T14:16:54.801658Z",
     "iopub.status.busy": "2024-10-06T14:16:54.801217Z",
     "iopub.status.idle": "2024-10-06T14:16:54.813739Z",
     "shell.execute_reply": "2024-10-06T14:16:54.812903Z",
     "shell.execute_reply.started": "2024-10-06T14:16:54.801620Z"
    }
   },
   "outputs": [
    {
     "name": "stdout",
     "output_type": "stream",
     "text": [
      "Total categories in the feature Emotion:\n",
      " Emotion\n",
      "anger    2000\n",
      "joy      2000\n",
      "fear     1937\n",
      "Name: count, dtype: int64 \n",
      "\n"
     ]
    }
   ],
   "source": [
    "#explore the unique values in the categorical features to get a clear idea of the data2.\n",
    "print(\"Total categories in the feature Emotion:\\n\", data2[\"Emotion\"].value_counts(), \"\\n\")\n"
   ]
  },
  {
   "cell_type": "code",
   "execution_count": 13,
   "id": "2f77fbc5",
   "metadata": {
    "execution": {
     "iopub.execute_input": "2024-10-06T14:16:54.815119Z",
     "iopub.status.busy": "2024-10-06T14:16:54.814843Z",
     "iopub.status.idle": "2024-10-06T14:16:54.823334Z",
     "shell.execute_reply": "2024-10-06T14:16:54.822513Z",
     "shell.execute_reply.started": "2024-10-06T14:16:54.815089Z"
    }
   },
   "outputs": [
    {
     "name": "stdout",
     "output_type": "stream",
     "text": [
      "Total categories in the feature Label:\n",
      " Label\n",
      "1    511\n",
      "4    510\n",
      "0    417\n",
      "2    401\n",
      "3    386\n",
      "Name: count, dtype: int64 \n",
      "\n"
     ]
    }
   ],
   "source": [
    "#explore the unique values in the categorical features to get a clear idea of the data2.\n",
    "print(\"Total categories in the feature Label:\\n\", data3[\"Label\"].value_counts(), \"\\n\")\n"
   ]
  },
  {
   "cell_type": "code",
   "execution_count": 14,
   "id": "04cb9e6d",
   "metadata": {
    "execution": {
     "iopub.execute_input": "2024-10-06T14:16:54.824628Z",
     "iopub.status.busy": "2024-10-06T14:16:54.824326Z",
     "iopub.status.idle": "2024-10-06T14:16:54.834023Z",
     "shell.execute_reply": "2024-10-06T14:16:54.833141Z",
     "shell.execute_reply.started": "2024-10-06T14:16:54.824597Z"
    }
   },
   "outputs": [
    {
     "name": "stdout",
     "output_type": "stream",
     "text": [
      "Index(['text', 'spam'], dtype='object')\n",
      "Index(['Comment', 'Emotion'], dtype='object')\n",
      "Index(['Text', 'Label'], dtype='object')\n"
     ]
    }
   ],
   "source": [
    "# View dataset column names\n",
    "print(data1.columns)\n",
    "print(data2.columns)\n",
    "print(data3.columns)"
   ]
  },
  {
   "cell_type": "markdown",
   "id": "bdca6110",
   "metadata": {},
   "source": [
    "### Transformer Algorithm"
   ]
  },
  {
   "cell_type": "code",
   "execution_count": 15,
   "id": "dbc038a5",
   "metadata": {
    "execution": {
     "iopub.execute_input": "2024-10-06T14:16:54.835396Z",
     "iopub.status.busy": "2024-10-06T14:16:54.835063Z",
     "iopub.status.idle": "2024-10-06T14:17:01.584731Z",
     "shell.execute_reply": "2024-10-06T14:17:01.583914Z",
     "shell.execute_reply.started": "2024-10-06T14:16:54.835365Z"
    }
   },
   "outputs": [],
   "source": [
    "import torch\n",
    "from transformers import Trainer, TrainingArguments\n",
    "from datasets import Dataset\n",
    "import pandas as pd\n",
    "import warnings\n",
    "\n",
    "warnings.filterwarnings(\"ignore\")\n"
   ]
  },
  {
   "cell_type": "code",
   "execution_count": 16,
   "id": "34c00b27",
   "metadata": {
    "execution": {
     "iopub.execute_input": "2024-10-06T14:17:01.586780Z",
     "iopub.status.busy": "2024-10-06T14:17:01.586006Z",
     "iopub.status.idle": "2024-10-06T14:17:01.656289Z",
     "shell.execute_reply": "2024-10-06T14:17:01.655126Z",
     "shell.execute_reply.started": "2024-10-06T14:17:01.586729Z"
    }
   },
   "outputs": [
    {
     "name": "stdout",
     "output_type": "stream",
     "text": [
      "True\n"
     ]
    }
   ],
   "source": [
    "import torch\n",
    "print(torch.cuda.is_available())\n",
    "device = torch.device(\"cuda\" if torch.cuda.is_available() else \"cpu\")"
   ]
  },
  {
   "cell_type": "markdown",
   "id": "67da0d71",
   "metadata": {},
   "source": [
    "### Feature Processing"
   ]
  },
  {
   "cell_type": "code",
   "execution_count": 17,
   "id": "8e84c1f7",
   "metadata": {
    "execution": {
     "iopub.execute_input": "2024-10-06T14:17:01.658446Z",
     "iopub.status.busy": "2024-10-06T14:17:01.657741Z",
     "iopub.status.idle": "2024-10-06T14:17:01.672731Z",
     "shell.execute_reply": "2024-10-06T14:17:01.671767Z",
     "shell.execute_reply.started": "2024-10-06T14:17:01.658397Z"
    }
   },
   "outputs": [],
   "source": [
    "# Rename columns for consistency\n",
    "data2 = data2.rename(columns={'Comment': 'text'})\n",
    "data3 = data3.rename(columns={'Text': 'text'})\n",
    "\n",
    "# Create label mapping for data1\n",
    "label_map1 = {0: 0, 1: 1}\n",
    "\n",
    "# Create label mapping for unique emotions in data2\n",
    "label_map2 = {label: idx for idx, label in enumerate(data2['Emotion'].unique())}\n",
    "\n",
    "# Create label mapping for unique labels in data3\n",
    "label_map3 = {label: idx for idx, label in enumerate(data3['Label'].unique())}\n",
    "\n",
    "# Map spam labels in data1 to new labels\n",
    "data1['spam'] = data1['spam'].map(label_map1)\n",
    "\n",
    "# Map emotion labels in data2 to new labels\n",
    "data2['Emotion'] = data2['Emotion'].map(label_map2)\n",
    "\n",
    "# Map label values in data3 to new labels\n",
    "data3['Label'] = data3['Label'].map(label_map3)\n"
   ]
  },
  {
   "cell_type": "code",
   "execution_count": 18,
   "id": "d65ae286",
   "metadata": {
    "execution": {
     "iopub.execute_input": "2024-10-06T14:17:01.674109Z",
     "iopub.status.busy": "2024-10-06T14:17:01.673827Z",
     "iopub.status.idle": "2024-10-06T14:17:01.883158Z",
     "shell.execute_reply": "2024-10-06T14:17:01.882323Z",
     "shell.execute_reply.started": "2024-10-06T14:17:01.674078Z"
    }
   },
   "outputs": [],
   "source": [
    "from transformers import AutoTokenizer\n",
    "\n",
    "# Load the pre-trained tokenizer\n",
    "tokenizer = AutoTokenizer.from_pretrained(\"distilbert-base-uncased\")\n",
    "\n",
    "def tokenize_function(examples):\n",
    "    # Tokenize the input text with padding and truncation\n",
    "    return tokenizer(examples[\"text\"], padding=\"max_length\", truncation=True, max_length=128)\n"
   ]
  },
  {
   "cell_type": "code",
   "execution_count": 19,
   "id": "c38b09a8",
   "metadata": {
    "execution": {
     "iopub.execute_input": "2024-10-06T14:17:01.885047Z",
     "iopub.status.busy": "2024-10-06T14:17:01.884542Z",
     "iopub.status.idle": "2024-10-06T14:17:07.056422Z",
     "shell.execute_reply": "2024-10-06T14:17:07.055523Z",
     "shell.execute_reply.started": "2024-10-06T14:17:01.885002Z"
    }
   },
   "outputs": [],
   "source": [
    "def tokenize_encode_dataset(data, label_column):\n",
    "    # Extract text and labels from the dataset\n",
    "    texts = data['text'].tolist()\n",
    "    labels = data[label_column].tolist()\n",
    "    \n",
    "    # Tokenize the texts with padding and truncation\n",
    "    encodings = tokenizer(texts, padding='max_length', truncation=True, max_length=128)  # You can adjust max_length\n",
    "    return encodings, labels\n",
    "\n",
    "def create_dataset(data, label_column):\n",
    "    # Tokenize and encode the dataset\n",
    "    encodings, labels = tokenize_encode_dataset(data, label_column)\n",
    "    \n",
    "    # Create a Dataset object from the encodings and labels\n",
    "    dataset = Dataset.from_dict({\n",
    "        'input_ids': encodings['input_ids'],\n",
    "        'attention_mask': encodings['attention_mask'],\n",
    "        'labels': labels\n",
    "    })\n",
    "    return dataset\n",
    "\n",
    "# Create datasets for each of the three datasets\n",
    "datasets = {\n",
    "    'dataset1': create_dataset(data1, 'spam'),\n",
    "    'dataset2': create_dataset(data2, 'Emotion'),  \n",
    "    'dataset3': create_dataset(data3, 'Label')\n",
    "}\n"
   ]
  },
  {
   "cell_type": "code",
   "execution_count": 20,
   "id": "3dbc18f0",
   "metadata": {
    "execution": {
     "iopub.execute_input": "2024-10-06T14:17:07.058210Z",
     "iopub.status.busy": "2024-10-06T14:17:07.057811Z",
     "iopub.status.idle": "2024-10-06T14:17:07.064479Z",
     "shell.execute_reply": "2024-10-06T14:17:07.063520Z",
     "shell.execute_reply.started": "2024-10-06T14:17:07.058163Z"
    }
   },
   "outputs": [
    {
     "name": "stdout",
     "output_type": "stream",
     "text": [
      "Index(['text', 'spam'], dtype='object')\n",
      "Index(['text', 'Emotion'], dtype='object')\n",
      "Index(['text', 'Label'], dtype='object')\n"
     ]
    }
   ],
   "source": [
    "print(data1.columns)  # Should display: ['text', 'spam']\n",
    "print(data2.columns)  # Should display: ['text', 'Emotion']\n",
    "print(data3.columns)  # Should display: ['text', 'Label']\n"
   ]
  },
  {
   "cell_type": "code",
   "execution_count": 21,
   "id": "be5661da",
   "metadata": {
    "execution": {
     "iopub.execute_input": "2024-10-06T14:17:07.066490Z",
     "iopub.status.busy": "2024-10-06T14:17:07.065849Z",
     "iopub.status.idle": "2024-10-06T14:17:07.098847Z",
     "shell.execute_reply": "2024-10-06T14:17:07.098118Z",
     "shell.execute_reply.started": "2024-10-06T14:17:07.066443Z"
    }
   },
   "outputs": [],
   "source": [
    "# Split the datasets into training and validation sets\n",
    "train_datasets = {}\n",
    "val_datasets = {}\n",
    "for name, dataset in datasets.items():\n",
    "    # Split the dataset with a test size of 30%\n",
    "    split_dataset = dataset.train_test_split(test_size=0.3)\n",
    "    train_datasets[name] = split_dataset['train']  # Store the training set\n",
    "    val_datasets[name] = split_dataset['test']    # Store the validation set\n"
   ]
  },
  {
   "cell_type": "code",
   "execution_count": 22,
   "id": "e95747e9",
   "metadata": {
    "execution": {
     "iopub.execute_input": "2024-10-06T14:17:07.100774Z",
     "iopub.status.busy": "2024-10-06T14:17:07.100050Z",
     "iopub.status.idle": "2024-10-06T14:17:07.166479Z",
     "shell.execute_reply": "2024-10-06T14:17:07.165375Z",
     "shell.execute_reply.started": "2024-10-06T14:17:07.100729Z"
    }
   },
   "outputs": [],
   "source": [
    "training_args = TrainingArguments(\n",
    "    output_dir='./results',            # Directory to save the results\n",
    "    num_train_epochs=10,               # Keep 10 epochs\n",
    "    per_device_train_batch_size=128,   # batch size for training\n",
    "    per_device_eval_batch_size=128,    # batch size for evaluation\n",
    "    learning_rate=2e-5,                # Adjusted learning rate\n",
    "    warmup_steps=500,                   # Increased number of warmup steps\n",
    "    weight_decay=0.01,                 # Regularization\n",
    "    logging_dir='./logs',               # Directory to save logs\n",
    "    logging_steps=100,                  # Log every 100 steps\n",
    "    evaluation_strategy='steps',        # Evaluation strategy based on steps\n",
    "    eval_steps=500,                     # Evaluate every 500 steps\n",
    "    save_steps=500,                     # Save the model every 500 steps\n",
    "    load_best_model_at_end=True,       # Save the best performing model\n",
    ")\n"
   ]
  },
  {
   "cell_type": "code",
   "execution_count": 23,
   "id": "578f8960",
   "metadata": {
    "execution": {
     "iopub.execute_input": "2024-10-06T14:17:07.167971Z",
     "iopub.status.busy": "2024-10-06T14:17:07.167659Z",
     "iopub.status.idle": "2024-10-06T14:17:07.174647Z",
     "shell.execute_reply": "2024-10-06T14:17:07.173865Z",
     "shell.execute_reply.started": "2024-10-06T14:17:07.167938Z"
    }
   },
   "outputs": [],
   "source": [
    "from sklearn.metrics import accuracy_score, precision_recall_fscore_support\n",
    "\n",
    "def compute_metrics(eval_pred):\n",
    "    # Unpack the evaluation predictions into logits and labels\n",
    "    logits, labels = eval_pred\n",
    "    \n",
    "    # Convert logits to a tensor\n",
    "    logits = torch.tensor(logits)  \n",
    "    \n",
    "    # Get the predicted class by taking the argmax of logits\n",
    "    predictions = torch.argmax(logits, dim=-1)\n",
    "    \n",
    "    # Calculate accuracy\n",
    "    acc = accuracy_score(labels, predictions)\n",
    "    \n",
    "    # Calculate precision, recall, and F1 score\n",
    "    precision, recall, f1, _ = precision_recall_fscore_support(labels, predictions, average='weighted')\n",
    "    \n",
    "    return {\n",
    "        'accuracy': acc,\n",
    "        'precision': precision,\n",
    "        'recall': recall,\n",
    "        'f1': f1\n",
    "    }\n"
   ]
  },
  {
   "cell_type": "code",
   "execution_count": 24,
   "id": "75fcd750",
   "metadata": {
    "execution": {
     "iopub.execute_input": "2024-10-06T14:17:07.176520Z",
     "iopub.status.busy": "2024-10-06T14:17:07.176115Z",
     "iopub.status.idle": "2024-10-06T14:17:07.426514Z",
     "shell.execute_reply": "2024-10-06T14:17:07.425652Z",
     "shell.execute_reply.started": "2024-10-06T14:17:07.176449Z"
    }
   },
   "outputs": [
    {
     "name": "stderr",
     "output_type": "stream",
     "text": [
      "Some weights of BertForSequenceClassification were not initialized from the model checkpoint at bert-base-uncased and are newly initialized: ['classifier.bias', 'classifier.weight']\n",
      "You should probably TRAIN this model on a down-stream task to be able to use it for predictions and inference.\n"
     ]
    }
   ],
   "source": [
    "from transformers import BertForSequenceClassification\n",
    "\n",
    "# Load the regular BERT model\n",
    "model = BertForSequenceClassification.from_pretrained('bert-base-uncased', num_labels=2)\n"
   ]
  },
  {
   "cell_type": "code",
   "execution_count": 25,
   "id": "bd38e14e",
   "metadata": {
    "execution": {
     "iopub.execute_input": "2024-10-06T14:17:07.427924Z",
     "iopub.status.busy": "2024-10-06T14:17:07.427630Z",
     "iopub.status.idle": "2024-10-06T14:28:02.589263Z",
     "shell.execute_reply": "2024-10-06T14:28:02.588296Z",
     "shell.execute_reply.started": "2024-10-06T14:17:07.427892Z"
    }
   },
   "outputs": [
    {
     "name": "stderr",
     "output_type": "stream",
     "text": [
      "\u001b[34m\u001b[1mwandb\u001b[0m: \u001b[33mWARNING\u001b[0m The `run_name` is currently set to the same value as `TrainingArguments.output_dir`. If this was not intended, please specify a different run name by setting the `TrainingArguments.run_name` parameter.\n",
      "\u001b[34m\u001b[1mwandb\u001b[0m: Using wandb-core as the SDK backend. Please refer to https://wandb.me/wandb-core for more information.\n",
      "\u001b[34m\u001b[1mwandb\u001b[0m: Currently logged in as: \u001b[33mxiangyu-cui21\u001b[0m (\u001b[33mxiangyu-cui21-xi-an-jiaotong-liverpool-university\u001b[0m). Use \u001b[1m`wandb login --relogin`\u001b[0m to force relogin\n"
     ]
    },
    {
     "data": {
      "application/vnd.jupyter.widget-view+json": {
       "model_id": "b3a2999b0f1d495899da3f8cbd2c9397",
       "version_major": 2,
       "version_minor": 0
      },
      "text/plain": [
       "VBox(children=(Label(value='Waiting for wandb.init()...\\r'), FloatProgress(value=0.01111298326666454, max=1.0)…"
      ]
     },
     "metadata": {},
     "output_type": "display_data"
    },
    {
     "data": {
      "text/html": [
       "Tracking run with wandb version 0.18.3"
      ],
      "text/plain": [
       "<IPython.core.display.HTML object>"
      ]
     },
     "metadata": {},
     "output_type": "display_data"
    },
    {
     "data": {
      "text/html": [
       "Run data is saved locally in <code>/kaggle/working/wandb/run-20241006_141710-mcxvfil3</code>"
      ],
      "text/plain": [
       "<IPython.core.display.HTML object>"
      ]
     },
     "metadata": {},
     "output_type": "display_data"
    },
    {
     "data": {
      "text/html": [
       "Syncing run <strong><a href='https://wandb.ai/xiangyu-cui21-xi-an-jiaotong-liverpool-university/huggingface/runs/mcxvfil3' target=\"_blank\">./results</a></strong> to <a href='https://wandb.ai/xiangyu-cui21-xi-an-jiaotong-liverpool-university/huggingface' target=\"_blank\">Weights & Biases</a> (<a href='https://wandb.me/run' target=\"_blank\">docs</a>)<br/>"
      ],
      "text/plain": [
       "<IPython.core.display.HTML object>"
      ]
     },
     "metadata": {},
     "output_type": "display_data"
    },
    {
     "data": {
      "text/html": [
       " View project at <a href='https://wandb.ai/xiangyu-cui21-xi-an-jiaotong-liverpool-university/huggingface' target=\"_blank\">https://wandb.ai/xiangyu-cui21-xi-an-jiaotong-liverpool-university/huggingface</a>"
      ],
      "text/plain": [
       "<IPython.core.display.HTML object>"
      ]
     },
     "metadata": {},
     "output_type": "display_data"
    },
    {
     "data": {
      "text/html": [
       " View run at <a href='https://wandb.ai/xiangyu-cui21-xi-an-jiaotong-liverpool-university/huggingface/runs/mcxvfil3' target=\"_blank\">https://wandb.ai/xiangyu-cui21-xi-an-jiaotong-liverpool-university/huggingface/runs/mcxvfil3</a>"
      ],
      "text/plain": [
       "<IPython.core.display.HTML object>"
      ]
     },
     "metadata": {},
     "output_type": "display_data"
    },
    {
     "data": {
      "text/html": [
       "\n",
       "    <div>\n",
       "      \n",
       "      <progress value='230' max='230' style='width:300px; height:20px; vertical-align: middle;'></progress>\n",
       "      [230/230 10:22, Epoch 10/10]\n",
       "    </div>\n",
       "    <table border=\"1\" class=\"dataframe\">\n",
       "  <thead>\n",
       " <tr style=\"text-align: left;\">\n",
       "      <th>Step</th>\n",
       "      <th>Training Loss</th>\n",
       "      <th>Validation Loss</th>\n",
       "    </tr>\n",
       "  </thead>\n",
       "  <tbody>\n",
       "  </tbody>\n",
       "</table><p>"
      ],
      "text/plain": [
       "<IPython.core.display.HTML object>"
      ]
     },
     "metadata": {},
     "output_type": "display_data"
    },
    {
     "data": {
      "text/html": [],
      "text/plain": [
       "<IPython.core.display.HTML object>"
      ]
     },
     "metadata": {},
     "output_type": "display_data"
    },
    {
     "name": "stdout",
     "output_type": "stream",
     "text": [
      "Evaluation results for dataset1: {'eval_loss': 0.004273663740605116, 'eval_accuracy': 0.9994762569832403, 'eval_precision': 0.9994766171090826, 'eval_recall': 0.9994762569832403, 'eval_f1': 0.9994760595906605, 'eval_runtime': 22.4826, 'eval_samples_per_second': 254.775, 'eval_steps_per_second': 1.023, 'epoch': 10.0}\n"
     ]
    }
   ],
   "source": [
    "from sklearn.preprocessing import LabelEncoder\n",
    "\n",
    "# Initialize the label encoder and transform the 'spam' column\n",
    "encoder1 = LabelEncoder()\n",
    "data1['spam'] = encoder1.fit_transform(data1['spam'])\n",
    "\n",
    "# Set the number of labels in the model configuration to 2 (for binary classification)\n",
    "model.config.num_labels = 2  # 2 classes\n",
    "\n",
    "# Initialize the Trainer with the model, training arguments, and datasets\n",
    "trainer1 = Trainer(\n",
    "    model=model,\n",
    "    args=training_args,\n",
    "    train_dataset=datasets['dataset1'],\n",
    "    eval_dataset=datasets['dataset1'],\n",
    "    compute_metrics=compute_metrics\n",
    ")\n",
    "\n",
    "# Start training the model\n",
    "trainer1.train()\n",
    "\n",
    "# Evaluate the model after training\n",
    "eval_results1 = trainer1.evaluate()\n",
    "print(f\"Evaluation results for dataset1: {eval_results1}\")\n"
   ]
  },
  {
   "cell_type": "code",
   "execution_count": 26,
   "id": "1266224c",
   "metadata": {
    "execution": {
     "iopub.execute_input": "2024-10-06T14:28:02.591558Z",
     "iopub.status.busy": "2024-10-06T14:28:02.590765Z",
     "iopub.status.idle": "2024-10-06T14:28:02.887223Z",
     "shell.execute_reply": "2024-10-06T14:28:02.886321Z",
     "shell.execute_reply.started": "2024-10-06T14:28:02.591491Z"
    }
   },
   "outputs": [
    {
     "name": "stderr",
     "output_type": "stream",
     "text": [
      "Some weights of BertForSequenceClassification were not initialized from the model checkpoint at bert-base-uncased and are newly initialized: ['classifier.bias', 'classifier.weight']\n",
      "You should probably TRAIN this model on a down-stream task to be able to use it for predictions and inference.\n"
     ]
    }
   ],
   "source": [
    "model = BertForSequenceClassification.from_pretrained('bert-base-uncased', num_labels=3)\n"
   ]
  },
  {
   "cell_type": "code",
   "execution_count": 27,
   "id": "22b2e643",
   "metadata": {
    "execution": {
     "iopub.execute_input": "2024-10-06T14:28:02.888745Z",
     "iopub.status.busy": "2024-10-06T14:28:02.888440Z",
     "iopub.status.idle": "2024-10-06T14:38:31.883474Z",
     "shell.execute_reply": "2024-10-06T14:38:31.882609Z",
     "shell.execute_reply.started": "2024-10-06T14:28:02.888711Z"
    }
   },
   "outputs": [
    {
     "data": {
      "text/html": [
       "\n",
       "    <div>\n",
       "      \n",
       "      <progress value='240' max='240' style='width:300px; height:20px; vertical-align: middle;'></progress>\n",
       "      [240/240 10:02, Epoch 10/10]\n",
       "    </div>\n",
       "    <table border=\"1\" class=\"dataframe\">\n",
       "  <thead>\n",
       " <tr style=\"text-align: left;\">\n",
       "      <th>Step</th>\n",
       "      <th>Training Loss</th>\n",
       "      <th>Validation Loss</th>\n",
       "    </tr>\n",
       "  </thead>\n",
       "  <tbody>\n",
       "  </tbody>\n",
       "</table><p>"
      ],
      "text/plain": [
       "<IPython.core.display.HTML object>"
      ]
     },
     "metadata": {},
     "output_type": "display_data"
    },
    {
     "data": {
      "text/html": [],
      "text/plain": [
       "<IPython.core.display.HTML object>"
      ]
     },
     "metadata": {},
     "output_type": "display_data"
    },
    {
     "name": "stdout",
     "output_type": "stream",
     "text": [
      "Evaluation results for dataset2: {'eval_loss': 0.12244415283203125, 'eval_accuracy': 0.965470776486441, 'eval_precision': 0.9665035032751481, 'eval_recall': 0.965470776486441, 'eval_f1': 0.9656445869685735, 'eval_runtime': 23.3121, 'eval_samples_per_second': 254.674, 'eval_steps_per_second': 1.03, 'epoch': 10.0}\n"
     ]
    }
   ],
   "source": [
    "# Encode the 'Emotion' column to ensure three classes are handled correctly\n",
    "encoder2 = LabelEncoder()\n",
    "data2['Emotion'] = encoder2.fit_transform(data2['Emotion'])\n",
    "\n",
    "# Initialize the Trainer for the second dataset\n",
    "trainer2 = Trainer(\n",
    "    model=model,\n",
    "    args=training_args,\n",
    "    train_dataset=datasets['dataset2'],\n",
    "    eval_dataset=datasets['dataset2'],\n",
    "    compute_metrics=compute_metrics\n",
    ")\n",
    "\n",
    "# Start training the model\n",
    "trainer2.train()\n",
    "\n",
    "# Evaluate the model after training\n",
    "eval_results2 = trainer2.evaluate()\n",
    "print(f\"Evaluation results for dataset2: {eval_results2}\")\n"
   ]
  },
  {
   "cell_type": "code",
   "execution_count": 28,
   "id": "3091147d",
   "metadata": {
    "execution": {
     "iopub.execute_input": "2024-10-06T14:38:31.889894Z",
     "iopub.status.busy": "2024-10-06T14:38:31.889496Z",
     "iopub.status.idle": "2024-10-06T14:38:32.175335Z",
     "shell.execute_reply": "2024-10-06T14:38:32.174586Z",
     "shell.execute_reply.started": "2024-10-06T14:38:31.889843Z"
    }
   },
   "outputs": [
    {
     "name": "stderr",
     "output_type": "stream",
     "text": [
      "Some weights of BertForSequenceClassification were not initialized from the model checkpoint at bert-base-uncased and are newly initialized: ['classifier.bias', 'classifier.weight']\n",
      "You should probably TRAIN this model on a down-stream task to be able to use it for predictions and inference.\n"
     ]
    }
   ],
   "source": [
    "model = BertForSequenceClassification.from_pretrained('bert-base-uncased', num_labels=5)\n"
   ]
  },
  {
   "cell_type": "code",
   "execution_count": 29,
   "id": "07aa9464",
   "metadata": {
    "execution": {
     "iopub.execute_input": "2024-10-06T14:38:32.176639Z",
     "iopub.status.busy": "2024-10-06T14:38:32.176370Z",
     "iopub.status.idle": "2024-10-06T14:42:47.141062Z",
     "shell.execute_reply": "2024-10-06T14:42:47.140033Z",
     "shell.execute_reply.started": "2024-10-06T14:38:32.176608Z"
    }
   },
   "outputs": [
    {
     "data": {
      "text/html": [
       "\n",
       "    <div>\n",
       "      \n",
       "      <progress value='90' max='90' style='width:300px; height:20px; vertical-align: middle;'></progress>\n",
       "      [90/90 04:02, Epoch 10/10]\n",
       "    </div>\n",
       "    <table border=\"1\" class=\"dataframe\">\n",
       "  <thead>\n",
       " <tr style=\"text-align: left;\">\n",
       "      <th>Step</th>\n",
       "      <th>Training Loss</th>\n",
       "      <th>Validation Loss</th>\n",
       "    </tr>\n",
       "  </thead>\n",
       "  <tbody>\n",
       "  </tbody>\n",
       "</table><p>"
      ],
      "text/plain": [
       "<IPython.core.display.HTML object>"
      ]
     },
     "metadata": {},
     "output_type": "display_data"
    },
    {
     "data": {
      "text/html": [],
      "text/plain": [
       "<IPython.core.display.HTML object>"
      ]
     },
     "metadata": {},
     "output_type": "display_data"
    },
    {
     "name": "stdout",
     "output_type": "stream",
     "text": [
      "Evaluation results for dataset3: {'eval_loss': 1.097182035446167, 'eval_accuracy': 0.6755056179775281, 'eval_precision': 0.7764877753948537, 'eval_recall': 0.6755056179775281, 'eval_f1': 0.6152197931128706, 'eval_runtime': 8.7821, 'eval_samples_per_second': 253.357, 'eval_steps_per_second': 1.025, 'epoch': 10.0}\n"
     ]
    }
   ],
   "source": [
    "# Encode the 'Label' column to ensure five classes are handled correctly\n",
    "encoder3 = LabelEncoder()\n",
    "data3['Label'] = encoder3.fit_transform(data3['Label'])\n",
    "\n",
    "# Initialize the Trainer for the third dataset\n",
    "trainer3 = Trainer(\n",
    "    model=model,\n",
    "    args=training_args,\n",
    "    train_dataset=datasets['dataset3'],\n",
    "    eval_dataset=datasets['dataset3'],\n",
    "    compute_metrics=compute_metrics\n",
    ")\n",
    "\n",
    "# Start training the model\n",
    "trainer3.train()\n",
    "\n",
    "# Evaluate the model after training\n",
    "eval_results3 = trainer3.evaluate()\n",
    "print(f\"Evaluation results for dataset3: {eval_results3}\")\n"
   ]
  },
  {
   "cell_type": "code",
   "execution_count": 30,
   "id": "885e7c05",
   "metadata": {
    "execution": {
     "iopub.execute_input": "2024-10-06T14:42:47.142638Z",
     "iopub.status.busy": "2024-10-06T14:42:47.142312Z",
     "iopub.status.idle": "2024-10-06T14:42:47.206527Z",
     "shell.execute_reply": "2024-10-06T14:42:47.205618Z",
     "shell.execute_reply.started": "2024-10-06T14:42:47.142602Z"
    }
   },
   "outputs": [],
   "source": [
    "import matplotlib.pyplot as plt\n",
    "import seaborn as sns\n",
    "from sklearn.metrics import confusion_matrix\n",
    "\n",
    "def plot_confusion_matrix(y_true, y_pred, class_names, dataset_name):\n",
    "    cm = confusion_matrix(y_true, y_pred)\n",
    "    plt.figure(figsize=(8, 6))\n",
    "    sns.heatmap(cm, annot=True, fmt='d', cmap='Blues', \n",
    "                xticklabels=class_names, yticklabels=class_names)\n",
    "    plt.ylabel('Actual')\n",
    "    plt.xlabel('Predicted')\n",
    "    plt.title(f'Confusion Matrix for {dataset_name}')\n",
    "    plt.show()\n"
   ]
  },
  {
   "cell_type": "code",
   "execution_count": 31,
   "id": "2d8464af",
   "metadata": {
    "execution": {
     "iopub.execute_input": "2024-10-06T14:42:47.208092Z",
     "iopub.status.busy": "2024-10-06T14:42:47.207537Z",
     "iopub.status.idle": "2024-10-06T14:43:10.011597Z",
     "shell.execute_reply": "2024-10-06T14:43:10.010770Z",
     "shell.execute_reply.started": "2024-10-06T14:42:47.208056Z"
    }
   },
   "outputs": [],
   "source": [
    "import numpy as np\n",
    "\n",
    "# Get the model's predictions on the validation set\n",
    "preds1 = trainer1.predict(datasets['dataset1'])\n",
    "logits1, labels1 = preds1.predictions, preds1.label_ids\n",
    "predictions1 = np.argmax(logits1, axis=-1)\n"
   ]
  },
  {
   "cell_type": "code",
   "execution_count": 32,
   "id": "a4599b75",
   "metadata": {
    "execution": {
     "iopub.execute_input": "2024-10-06T14:43:10.013225Z",
     "iopub.status.busy": "2024-10-06T14:43:10.012892Z",
     "iopub.status.idle": "2024-10-06T14:43:10.320653Z",
     "shell.execute_reply": "2024-10-06T14:43:10.319750Z",
     "shell.execute_reply.started": "2024-10-06T14:43:10.013187Z"
    }
   },
   "outputs": [
    {
     "data": {
      "image/png": "[encoded data removed]",
      "text/plain": [
       "<Figure size 800x600 with 2 Axes>"
      ]
     },
     "metadata": {},
     "output_type": "display_data"
    }
   ],
   "source": [
    "# Plot the confusion matrix\n",
    "plot_confusion_matrix(labels1, predictions1, class_names=['not spam', 'spam'], dataset_name=\"Dataset1\")"
   ]
  },
  {
   "cell_type": "code",
   "execution_count": 33,
   "id": "a915e0cc",
   "metadata": {
    "execution": {
     "iopub.execute_input": "2024-10-06T14:43:10.323318Z",
     "iopub.status.busy": "2024-10-06T14:43:10.322593Z",
     "iopub.status.idle": "2024-10-06T14:43:33.851189Z",
     "shell.execute_reply": "2024-10-06T14:43:33.850287Z",
     "shell.execute_reply.started": "2024-10-06T14:43:10.323269Z"
    }
   },
   "outputs": [],
   "source": [
    "# Get the model's predictions on the validation set\n",
    "preds2 = trainer2.predict(datasets['dataset2'])\n",
    "logits2, labels2 = preds2.predictions, preds2.label_ids\n",
    "predictions2 = np.argmax(logits2, axis=-1)\n"
   ]
  },
  {
   "cell_type": "code",
   "execution_count": 34,
   "id": "b210a33b",
   "metadata": {
    "execution": {
     "iopub.execute_input": "2024-10-06T14:43:33.852778Z",
     "iopub.status.busy": "2024-10-06T14:43:33.852500Z",
     "iopub.status.idle": "2024-10-06T14:43:34.157924Z",
     "shell.execute_reply": "2024-10-06T14:43:34.156966Z",
     "shell.execute_reply.started": "2024-10-06T14:43:33.852748Z"
    }
   },
   "outputs": [
    {
     "data": {
      "image/png": "[encoded data removed]",
      "text/plain": [
       "<Figure size 800x600 with 2 Axes>"
      ]
     },
     "metadata": {},
     "output_type": "display_data"
    }
   ],
   "source": [
    "# Plot the confusion matrix\n",
    "plot_confusion_matrix(labels2, predictions2, class_names=['anger', 'joy', 'fear'], dataset_name=\"Dataset2\")"
   ]
  },
  {
   "cell_type": "code",
   "execution_count": 35,
   "id": "1e040c65",
   "metadata": {
    "execution": {
     "iopub.execute_input": "2024-10-06T14:43:34.159494Z",
     "iopub.status.busy": "2024-10-06T14:43:34.159183Z",
     "iopub.status.idle": "2024-10-06T14:43:43.031185Z",
     "shell.execute_reply": "2024-10-06T14:43:43.029697Z",
     "shell.execute_reply.started": "2024-10-06T14:43:34.159460Z"
    }
   },
   "outputs": [],
   "source": [
    "# Get the model's predictions on the validation set\n",
    "preds3 = trainer3.predict(datasets['dataset3'])\n",
    "logits3, labels3 = preds3.predictions, preds3.label_ids\n",
    "predictions3 = np.argmax(logits3, axis=-1)\n"
   ]
  },
  {
   "cell_type": "code",
   "execution_count": 36,
   "id": "af7537dc",
   "metadata": {
    "execution": {
     "iopub.execute_input": "2024-10-06T14:43:43.033080Z",
     "iopub.status.busy": "2024-10-06T14:43:43.032418Z",
     "iopub.status.idle": "2024-10-06T14:43:43.379531Z",
     "shell.execute_reply": "2024-10-06T14:43:43.378588Z",
     "shell.execute_reply.started": "2024-10-06T14:43:43.033042Z"
    }
   },
   "outputs": [
    {
     "data": {
      "image/png": "[encoded data removed]",
      "text/plain": [
       "<Figure size 800x600 with 2 Axes>"
      ]
     },
     "metadata": {},
     "output_type": "display_data"
    }
   ],
   "source": [
    "# Plot the confusion matrix\n",
    "plot_confusion_matrix(labels3, predictions3, class_names=['Politics', 'Sport', 'Technology', 'Entertainment', 'Business'], dataset_name=\"Dataset3\")\n"
   ]
  },
  {
   "cell_type": "code",
   "execution_count": null,
   "id": "dca80eda",
   "metadata": {},
   "outputs": [],
   "source": []
  }
 ],
 "metadata": {
  "kaggle": {
   "accelerator": "nvidiaTeslaT4",
   "dataSources": [
    {
     "datasetId": 5825937,
     "sourceId": 9560363,
     "sourceType": "datasetVersion"
    }
   ],
   "dockerImageVersionId": 30787,
   "isGpuEnabled": true,
   "isInternetEnabled": true,
   "language": "python",
   "sourceType": "notebook"
  },
  "kernelspec": {
   "display_name": "Python 3 (ipykernel)",
   "language": "python",
   "name": "python3"
  },
  "language_info": {
   "codemirror_mode": {
    "name": "ipython",
    "version": 3
   },
   "file_extension": ".py",
   "mimetype": "text/x-python",
   "name": "python",
   "nbconvert_exporter": "python",
   "pygments_lexer": "ipython3",
   "version": "3.10.9"
  }
 },
 "nbformat": 4,
 "nbformat_minor": 5
}
