{
 "cells": [
  {
   "cell_type": "markdown",
   "id": "4e1a7929",
   "metadata": {},
   "source": [
    "### Data Reading"
   ]
  },
  {
   "cell_type": "code",
   "execution_count": 1,
   "id": "35a625cf",
   "metadata": {},
   "outputs": [
    {
     "name": "stdout",
     "output_type": "stream",
     "text": [
      "Number of data 1 points: 5728\n",
      "Number of data 2 points: 5937\n",
      "Number of data 3 points: 2225\n"
     ]
    }
   ],
   "source": [
    "import pandas as pd\n",
    "\n",
    "# Read the data set\n",
    "data1 = pd.read_csv(\"dataset1.csv\", encoding=\"iso-8859-1\")\n",
    "data2 = pd.read_csv(\"dataset2.csv\", encoding=\"iso-8859-1\")\n",
    "data3 = pd.read_csv(\"dataset3.csv\", encoding=\"iso-8859-1\")\n",
    "\n",
    "# # Save the data set as a utf-8 encoded CSV file\n",
    "# data1.to_csv(\"dataset1_utf8.csv\", index=False, encoding=\"utf-8\")\n",
    "# data2.to_csv(\"dataset2_utf8.csv\", index=False, encoding=\"utf-8\")\n",
    "# data3.to_csv(\"dataset3_utf8.csv\", index=False, encoding=\"utf-8\")\n",
    "\n",
    "# Number of printed data points\n",
    "print(\"Number of data 1 points:\", len(data1))\n",
    "print(\"Number of data 2 points:\", len(data2))\n",
    "print(\"Number of data 3 points:\", len(data3))\n"
   ]
  },
  {
   "cell_type": "code",
   "execution_count": 2,
   "id": "947bcf26",
   "metadata": {
    "scrolled": true
   },
   "outputs": [
    {
     "data": {
      "text/html": [
       "<div>\n",
       "<style scoped>\n",
       "    .dataframe tbody tr th:only-of-type {\n",
       "        vertical-align: middle;\n",
       "    }\n",
       "\n",
       "    .dataframe tbody tr th {\n",
       "        vertical-align: top;\n",
       "    }\n",
       "\n",
       "    .dataframe thead th {\n",
       "        text-align: right;\n",
       "    }\n",
       "</style>\n",
       "<table border=\"1\" class=\"dataframe\">\n",
       "  <thead>\n",
       "    <tr style=\"text-align: right;\">\n",
       "      <th></th>\n",
       "      <th>text</th>\n",
       "      <th>spam</th>\n",
       "    </tr>\n",
       "  </thead>\n",
       "  <tbody>\n",
       "    <tr>\n",
       "      <th>0</th>\n",
       "      <td>Subject: naturally irresistible your corporate...</td>\n",
       "      <td>1</td>\n",
       "    </tr>\n",
       "    <tr>\n",
       "      <th>1</th>\n",
       "      <td>Subject: the stock trading gunslinger  fanny i...</td>\n",
       "      <td>1</td>\n",
       "    </tr>\n",
       "    <tr>\n",
       "      <th>2</th>\n",
       "      <td>Subject: unbelievable new homes made easy  im ...</td>\n",
       "      <td>1</td>\n",
       "    </tr>\n",
       "    <tr>\n",
       "      <th>3</th>\n",
       "      <td>Subject: 4 color printing special  request add...</td>\n",
       "      <td>1</td>\n",
       "    </tr>\n",
       "    <tr>\n",
       "      <th>4</th>\n",
       "      <td>Subject: do not have money , get software cds ...</td>\n",
       "      <td>1</td>\n",
       "    </tr>\n",
       "  </tbody>\n",
       "</table>\n",
       "</div>"
      ],
      "text/plain": [
       "                                                text  spam\n",
       "0  Subject: naturally irresistible your corporate...     1\n",
       "1  Subject: the stock trading gunslinger  fanny i...     1\n",
       "2  Subject: unbelievable new homes made easy  im ...     1\n",
       "3  Subject: 4 color printing special  request add...     1\n",
       "4  Subject: do not have money , get software cds ...     1"
      ]
     },
     "execution_count": 2,
     "metadata": {},
     "output_type": "execute_result"
    }
   ],
   "source": [
    "data1.head()"
   ]
  },
  {
   "cell_type": "code",
   "execution_count": 3,
   "id": "234fdb6d",
   "metadata": {
    "scrolled": true
   },
   "outputs": [
    {
     "data": {
      "text/html": [
       "<div>\n",
       "<style scoped>\n",
       "    .dataframe tbody tr th:only-of-type {\n",
       "        vertical-align: middle;\n",
       "    }\n",
       "\n",
       "    .dataframe tbody tr th {\n",
       "        vertical-align: top;\n",
       "    }\n",
       "\n",
       "    .dataframe thead th {\n",
       "        text-align: right;\n",
       "    }\n",
       "</style>\n",
       "<table border=\"1\" class=\"dataframe\">\n",
       "  <thead>\n",
       "    <tr style=\"text-align: right;\">\n",
       "      <th></th>\n",
       "      <th>Comment</th>\n",
       "      <th>Emotion</th>\n",
       "    </tr>\n",
       "  </thead>\n",
       "  <tbody>\n",
       "    <tr>\n",
       "      <th>0</th>\n",
       "      <td>i seriously hate one subject to death but now ...</td>\n",
       "      <td>fear</td>\n",
       "    </tr>\n",
       "    <tr>\n",
       "      <th>1</th>\n",
       "      <td>im so full of life i feel appalled</td>\n",
       "      <td>anger</td>\n",
       "    </tr>\n",
       "    <tr>\n",
       "      <th>2</th>\n",
       "      <td>i sit here to write i start to dig out my feel...</td>\n",
       "      <td>fear</td>\n",
       "    </tr>\n",
       "    <tr>\n",
       "      <th>3</th>\n",
       "      <td>ive been really angry with r and i feel like a...</td>\n",
       "      <td>joy</td>\n",
       "    </tr>\n",
       "    <tr>\n",
       "      <th>4</th>\n",
       "      <td>i feel suspicious if there is no one outside l...</td>\n",
       "      <td>fear</td>\n",
       "    </tr>\n",
       "  </tbody>\n",
       "</table>\n",
       "</div>"
      ],
      "text/plain": [
       "                                             Comment Emotion\n",
       "0  i seriously hate one subject to death but now ...    fear\n",
       "1                 im so full of life i feel appalled   anger\n",
       "2  i sit here to write i start to dig out my feel...    fear\n",
       "3  ive been really angry with r and i feel like a...     joy\n",
       "4  i feel suspicious if there is no one outside l...    fear"
      ]
     },
     "execution_count": 3,
     "metadata": {},
     "output_type": "execute_result"
    }
   ],
   "source": [
    "data2.head()"
   ]
  },
  {
   "cell_type": "code",
   "execution_count": 4,
   "id": "cba8f17a",
   "metadata": {},
   "outputs": [
    {
     "data": {
      "text/html": [
       "<div>\n",
       "<style scoped>\n",
       "    .dataframe tbody tr th:only-of-type {\n",
       "        vertical-align: middle;\n",
       "    }\n",
       "\n",
       "    .dataframe tbody tr th {\n",
       "        vertical-align: top;\n",
       "    }\n",
       "\n",
       "    .dataframe thead th {\n",
       "        text-align: right;\n",
       "    }\n",
       "</style>\n",
       "<table border=\"1\" class=\"dataframe\">\n",
       "  <thead>\n",
       "    <tr style=\"text-align: right;\">\n",
       "      <th></th>\n",
       "      <th>Text</th>\n",
       "      <th>Label</th>\n",
       "    </tr>\n",
       "  </thead>\n",
       "  <tbody>\n",
       "    <tr>\n",
       "      <th>0</th>\n",
       "      <td>Budget to set scene for election\\n \\n Gordon B...</td>\n",
       "      <td>0</td>\n",
       "    </tr>\n",
       "    <tr>\n",
       "      <th>1</th>\n",
       "      <td>Army chiefs in regiments decision\\n \\n Militar...</td>\n",
       "      <td>0</td>\n",
       "    </tr>\n",
       "    <tr>\n",
       "      <th>2</th>\n",
       "      <td>Howard denies split over ID cards\\n \\n Michael...</td>\n",
       "      <td>0</td>\n",
       "    </tr>\n",
       "    <tr>\n",
       "      <th>3</th>\n",
       "      <td>Observers to monitor UK election\\n \\n Minister...</td>\n",
       "      <td>0</td>\n",
       "    </tr>\n",
       "    <tr>\n",
       "      <th>4</th>\n",
       "      <td>Kilroy names election seat target\\n \\n Ex-chat...</td>\n",
       "      <td>0</td>\n",
       "    </tr>\n",
       "  </tbody>\n",
       "</table>\n",
       "</div>"
      ],
      "text/plain": [
       "                                                Text  Label\n",
       "0  Budget to set scene for election\\n \\n Gordon B...      0\n",
       "1  Army chiefs in regiments decision\\n \\n Militar...      0\n",
       "2  Howard denies split over ID cards\\n \\n Michael...      0\n",
       "3  Observers to monitor UK election\\n \\n Minister...      0\n",
       "4  Kilroy names election seat target\\n \\n Ex-chat...      0"
      ]
     },
     "execution_count": 4,
     "metadata": {},
     "output_type": "execute_result"
    }
   ],
   "source": [
    "data3.head()"
   ]
  },
  {
   "cell_type": "markdown",
   "id": "5deb90c1",
   "metadata": {},
   "source": [
    "#### Data Cleaning"
   ]
  },
  {
   "cell_type": "code",
   "execution_count": 5,
   "id": "da32c559",
   "metadata": {},
   "outputs": [
    {
     "name": "stdout",
     "output_type": "stream",
     "text": [
      "<class 'pandas.core.frame.DataFrame'>\n",
      "RangeIndex: 5728 entries, 0 to 5727\n",
      "Data columns (total 2 columns):\n",
      " #   Column  Non-Null Count  Dtype \n",
      "---  ------  --------------  ----- \n",
      " 0   text    5728 non-null   object\n",
      " 1   spam    5728 non-null   int64 \n",
      "dtypes: int64(1), object(1)\n",
      "memory usage: 89.6+ KB\n"
     ]
    }
   ],
   "source": [
    "#Information on data1 features \n",
    "data1.info()"
   ]
  },
  {
   "cell_type": "code",
   "execution_count": 6,
   "id": "a7594ab6",
   "metadata": {},
   "outputs": [
    {
     "name": "stdout",
     "output_type": "stream",
     "text": [
      "<class 'pandas.core.frame.DataFrame'>\n",
      "RangeIndex: 5937 entries, 0 to 5936\n",
      "Data columns (total 2 columns):\n",
      " #   Column   Non-Null Count  Dtype \n",
      "---  ------   --------------  ----- \n",
      " 0   Comment  5937 non-null   object\n",
      " 1   Emotion  5937 non-null   object\n",
      "dtypes: object(2)\n",
      "memory usage: 92.9+ KB\n"
     ]
    }
   ],
   "source": [
    "#Information on data2 features \n",
    "data2.info()"
   ]
  },
  {
   "cell_type": "code",
   "execution_count": 7,
   "id": "7aac8ace",
   "metadata": {},
   "outputs": [
    {
     "name": "stdout",
     "output_type": "stream",
     "text": [
      "<class 'pandas.core.frame.DataFrame'>\n",
      "RangeIndex: 2225 entries, 0 to 2224\n",
      "Data columns (total 2 columns):\n",
      " #   Column  Non-Null Count  Dtype \n",
      "---  ------  --------------  ----- \n",
      " 0   Text    2225 non-null   object\n",
      " 1   Label   2225 non-null   int64 \n",
      "dtypes: int64(1), object(1)\n",
      "memory usage: 34.9+ KB\n"
     ]
    }
   ],
   "source": [
    "#Information on data3 features \n",
    "data3.info()"
   ]
  },
  {
   "cell_type": "code",
   "execution_count": 8,
   "id": "ab89e231",
   "metadata": {},
   "outputs": [
    {
     "name": "stdout",
     "output_type": "stream",
     "text": [
      "The total number of data1-points after removing the rows with missing values are: 5728\n"
     ]
    }
   ],
   "source": [
    "#To remove the NA values\n",
    "data1 = data1.dropna()\n",
    "print(\"The total number of data1-points after removing the rows with missing values are:\", len(data1))"
   ]
  },
  {
   "cell_type": "code",
   "execution_count": 9,
   "id": "b43df61c",
   "metadata": {},
   "outputs": [
    {
     "name": "stdout",
     "output_type": "stream",
     "text": [
      "The total number of data2-points after removing the rows with missing values are: 5937\n"
     ]
    }
   ],
   "source": [
    "#To remove the NA values\n",
    "data2 = data2.dropna()\n",
    "print(\"The total number of data2-points after removing the rows with missing values are:\", len(data2))"
   ]
  },
  {
   "cell_type": "code",
   "execution_count": 10,
   "id": "666a77a1",
   "metadata": {},
   "outputs": [
    {
     "name": "stdout",
     "output_type": "stream",
     "text": [
      "The total number of data3-points after removing the rows with missing values are: 2225\n"
     ]
    }
   ],
   "source": [
    "#To remove the NA values\n",
    "data3 = data3.dropna()\n",
    "print(\"The total number of data3-points after removing the rows with missing values are:\", len(data3))"
   ]
  },
  {
   "cell_type": "code",
   "execution_count": 11,
   "id": "24de1d89",
   "metadata": {},
   "outputs": [
    {
     "name": "stdout",
     "output_type": "stream",
     "text": [
      "Total categories in the feature spam:\n",
      " 0    4360\n",
      "1    1368\n",
      "Name: spam, dtype: int64 \n",
      "\n"
     ]
    }
   ],
   "source": [
    "#explore the unique values in the categorical features to get a clear idea of the data1.\n",
    "print(\"Total categories in the feature spam:\\n\", data1[\"spam\"].value_counts(), \"\\n\")\n"
   ]
  },
  {
   "cell_type": "code",
   "execution_count": 12,
   "id": "871cb3e9",
   "metadata": {},
   "outputs": [
    {
     "name": "stdout",
     "output_type": "stream",
     "text": [
      "Total categories in the feature Emotion:\n",
      " anger    2000\n",
      "joy      2000\n",
      "fear     1937\n",
      "Name: Emotion, dtype: int64 \n",
      "\n"
     ]
    }
   ],
   "source": [
    "#explore the unique values in the categorical features to get a clear idea of the data2.\n",
    "print(\"Total categories in the feature Emotion:\\n\", data2[\"Emotion\"].value_counts(), \"\\n\")\n"
   ]
  },
  {
   "cell_type": "code",
   "execution_count": 13,
   "id": "29fa726d",
   "metadata": {},
   "outputs": [
    {
     "name": "stdout",
     "output_type": "stream",
     "text": [
      "Total categories in the feature Label:\n",
      " 1    511\n",
      "4    510\n",
      "0    417\n",
      "2    401\n",
      "3    386\n",
      "Name: Label, dtype: int64 \n",
      "\n"
     ]
    }
   ],
   "source": [
    "#explore the unique values in the categorical features to get a clear idea of the data2.\n",
    "print(\"Total categories in the feature Label:\\n\", data3[\"Label\"].value_counts(), \"\\n\")\n"
   ]
  },
  {
   "cell_type": "markdown",
   "id": "a203eea7",
   "metadata": {},
   "source": [
    "### Feature Processing"
   ]
  },
  {
   "cell_type": "code",
   "execution_count": 14,
   "id": "13e83014",
   "metadata": {},
   "outputs": [
    {
     "name": "stdout",
     "output_type": "stream",
     "text": [
      "Index(['text', 'spam'], dtype='object')\n",
      "Index(['Comment', 'Emotion'], dtype='object')\n",
      "Index(['Text', 'Label'], dtype='object')\n"
     ]
    }
   ],
   "source": [
    "# View dataset column names\n",
    "print(data1.columns)\n",
    "print(data2.columns)\n",
    "print(data3.columns)"
   ]
  },
  {
   "cell_type": "code",
   "execution_count": 15,
   "id": "0e173c50",
   "metadata": {},
   "outputs": [],
   "source": [
    "from sklearn.feature_extraction.text import TfidfVectorizer\n",
    "\n",
    "# Initialize TfidfVectorizer\n",
    "tfidf_vectorizer1 = TfidfVectorizer()\n",
    "tfidf_vectorizer2 = TfidfVectorizer()\n",
    "tfidf_vectorizer3 = TfidfVectorizer()\n",
    "\n",
    "# Transform the text data\n",
    "X1 = tfidf_vectorizer1.fit_transform(data1['text'])  # email dataset\n",
    "X2 = tfidf_vectorizer2.fit_transform(data2['Comment'])  # Sentiment Analysis dataset\n",
    "X3 = tfidf_vectorizer3.fit_transform(data3['Text'])  # News Categorization dataset\n",
    "\n",
    "# Get labels\n",
    "y1 = data1['spam']  # email labels\n",
    "y2 = data2['Emotion']  # Sentiment Analysis labels\n",
    "y3 = data3['Label']  # News Categorization labels"
   ]
  },
  {
   "cell_type": "code",
   "execution_count": 16,
   "id": "7ebd7374",
   "metadata": {},
   "outputs": [
    {
     "name": "stdout",
     "output_type": "stream",
     "text": [
      "Shape of X1 (email): (5728, 37303)\n",
      "Shape of X2 (Sentiment Analysis): (5937, 8954)\n",
      "Shape of X3 (News Categorization): (2225, 29421)\n"
     ]
    }
   ],
   "source": [
    "print(\"Shape of X1 (email):\", X1.shape)\n",
    "print(\"Shape of X2 (Sentiment Analysis):\", X2.shape)\n",
    "print(\"Shape of X3 (News Categorization):\", X3.shape)\n"
   ]
  },
  {
   "cell_type": "markdown",
   "id": "a445bd7e",
   "metadata": {},
   "source": [
    "### Logistic Regression Algorithm"
   ]
  },
  {
   "cell_type": "code",
   "execution_count": 17,
   "id": "e989c8c8",
   "metadata": {},
   "outputs": [
    {
     "name": "stdout",
     "output_type": "stream",
     "text": [
      "Logistic Regression Report for Email Dataset (Test):\n",
      "              precision    recall  f1-score   support\n",
      "\n",
      "           0       0.97      1.00      0.98       856\n",
      "           1       1.00      0.90      0.95       290\n",
      "\n",
      "    accuracy                           0.97      1146\n",
      "   macro avg       0.98      0.95      0.97      1146\n",
      "weighted avg       0.98      0.97      0.97      1146\n",
      "\n",
      "Logistic Regression Report for Sentiment Analysis Dataset (Test):\n",
      "              precision    recall  f1-score   support\n",
      "\n",
      "       anger       0.92      0.92      0.92       392\n",
      "        fear       0.95      0.89      0.92       416\n",
      "         joy       0.89      0.94      0.91       380\n",
      "\n",
      "    accuracy                           0.92      1188\n",
      "   macro avg       0.92      0.92      0.92      1188\n",
      "weighted avg       0.92      0.92      0.92      1188\n",
      "\n",
      "Logistic Regression Report for News Categorization Dataset (Test):\n",
      "              precision    recall  f1-score   support\n",
      "\n",
      "           0       1.00      0.89      0.94        92\n",
      "           1       0.97      1.00      0.98        98\n",
      "           2       0.96      0.95      0.95        77\n",
      "           3       0.95      0.93      0.94        76\n",
      "           4       0.90      0.98      0.94       102\n",
      "\n",
      "    accuracy                           0.95       445\n",
      "   macro avg       0.96      0.95      0.95       445\n",
      "weighted avg       0.95      0.95      0.95       445\n",
      "\n",
      "Cross-validation accuracy for Email Dataset: 0.9821919415929339\n",
      "Cross-validation accuracy for Sentiment Analysis Dataset: 0.9125798847787052\n",
      "Cross-validation accuracy for News Categorization Dataset: 0.9734831460674158\n"
     ]
    }
   ],
   "source": [
    "from sklearn.model_selection import train_test_split\n",
    "from sklearn.linear_model import LogisticRegression\n",
    "from sklearn.metrics import classification_report\n",
    "from sklearn.model_selection import cross_val_score\n",
    "\n",
    "# Split data for each dataset (e.g., 80% train, 20% test)\n",
    "X1_train, X1_test, y1_train, y1_test = train_test_split(X1, y1, test_size=0.2, random_state=42)\n",
    "X2_train, X2_test, y2_train, y2_test = train_test_split(X2, y2, test_size=0.2, random_state=42)\n",
    "X3_train, X3_test, y3_train, y3_test = train_test_split(X3, y3, test_size=0.2, random_state=42)\n",
    "\n",
    "# Initialize the Logistic Regression classifier\n",
    "lr_classifier = LogisticRegression(max_iter=1000)\n",
    "\n",
    "# Train on the training set and evaluate on the test set for Email dataset\n",
    "lr_classifier.fit(X1_train, y1_train)\n",
    "y1_test_pred = lr_classifier.predict(X1_test)\n",
    "print(\"Logistic Regression Report for Email Dataset (Test):\")\n",
    "print(classification_report(y1_test, y1_test_pred))\n",
    "\n",
    "# Train on the training set and evaluate on the test set for Sentiment Analysis dataset\n",
    "lr_classifier.fit(X2_train, y2_train)\n",
    "y2_test_pred = lr_classifier.predict(X2_test)\n",
    "print(\"Logistic Regression Report for Sentiment Analysis Dataset (Test):\")\n",
    "print(classification_report(y2_test, y2_test_pred))\n",
    "\n",
    "# Train on the training set and evaluate on the test set for News Categorization dataset\n",
    "lr_classifier.fit(X3_train, y3_train)\n",
    "y3_test_pred = lr_classifier.predict(X3_test)\n",
    "print(\"Logistic Regression Report for News Categorization Dataset (Test):\")\n",
    "print(classification_report(y3_test, y3_test_pred))\n",
    "\n",
    "# Perform cross-validation (optional)\n",
    "scores1 = cross_val_score(lr_classifier, X1, y1, cv=5)\n",
    "print(\"Cross-validation accuracy for Email Dataset:\", scores1.mean())\n",
    "\n",
    "scores2 = cross_val_score(lr_classifier, X2, y2, cv=5)\n",
    "print(\"Cross-validation accuracy for Sentiment Analysis Dataset:\", scores2.mean())\n",
    "\n",
    "scores3 = cross_val_score(lr_classifier, X3, y3, cv=5)\n",
    "print(\"Cross-validation accuracy for News Categorization Dataset:\", scores3.mean())\n"
   ]
  },
  {
   "cell_type": "code",
   "execution_count": 18,
   "id": "a97ebccf",
   "metadata": {},
   "outputs": [
    {
     "data": {
      "image/png": "[encoded data removed]",
      "text/plain": [
       "<Figure size 640x480 with 2 Axes>"
      ]
     },
     "metadata": {},
     "output_type": "display_data"
    },
    {
     "data": {
      "image/png": "[encoded data removed]",
      "text/plain": [
       "<Figure size 640x480 with 2 Axes>"
      ]
     },
     "metadata": {},
     "output_type": "display_data"
    },
    {
     "data": {
      "image/png": "[encoded data removed]",
      "text/plain": [
       "<Figure size 640x480 with 2 Axes>"
      ]
     },
     "metadata": {},
     "output_type": "display_data"
    }
   ],
   "source": [
    "from sklearn.metrics import classification_report, confusion_matrix\n",
    "import matplotlib.pyplot as plt\n",
    "from sklearn.metrics import ConfusionMatrixDisplay\n",
    "\n",
    "# Generate and display confusion matrix for each dataset\n",
    "\n",
    "# For Email Dataset\n",
    "cm1 = confusion_matrix(y1_test, y1_test_pred)\n",
    "disp1 = ConfusionMatrixDisplay(confusion_matrix=cm1)\n",
    "disp1.plot(cmap=plt.cm.Blues)\n",
    "plt.title(\"Confusion Matrix for Email Dataset (Test)\")\n",
    "plt.show()\n",
    "\n",
    "# For Sentiment Analysis Dataset\n",
    "cm2 = confusion_matrix(y2_test, y2_test_pred)\n",
    "disp2 = ConfusionMatrixDisplay(confusion_matrix=cm2)\n",
    "disp2.plot(cmap=plt.cm.Blues)\n",
    "plt.title(\"Confusion Matrix for Sentiment Analysis Dataset (Test)\")\n",
    "plt.show()\n",
    "\n",
    "# For News Categorization Dataset\n",
    "cm3 = confusion_matrix(y3_test, y3_test_pred)\n",
    "disp3 = ConfusionMatrixDisplay(confusion_matrix=cm3)\n",
    "disp3.plot(cmap=plt.cm.Blues)\n",
    "plt.title(\"Confusion Matrix for News Categorization Dataset (Test)\")\n",
    "plt.show()\n"
   ]
  },
  {
   "cell_type": "code",
   "execution_count": null,
   "id": "74158d76",
   "metadata": {},
   "outputs": [],
   "source": []
  }
 ],
 "metadata": {
  "kernelspec": {
   "display_name": "Python 3 (ipykernel)",
   "language": "python",
   "name": "python3"
  },
  "language_info": {
   "codemirror_mode": {
    "name": "ipython",
    "version": 3
   },
   "file_extension": ".py",
   "mimetype": "text/x-python",
   "name": "python",
   "nbconvert_exporter": "python",
   "pygments_lexer": "ipython3",
   "version": "3.10.9"
  }
 },
 "nbformat": 4,
 "nbformat_minor": 5
}
